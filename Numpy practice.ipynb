{
 "cells": [
  {
   "cell_type": "markdown",
   "metadata": {
    "colab_type": "text",
    "id": "zkf1DUWw03OD"
   },
   "source": [
    "**Magic commands (Design to solve various common problem)**\n",
    "\n"
   ]
  },
  {
   "cell_type": "markdown",
   "metadata": {
    "colab_type": "text",
    "id": "ihJ84Jd72vta"
   },
   "source": [
    "**%timeit magic command** "
   ]
  },
  {
   "cell_type": "code",
   "execution_count": null,
   "metadata": {
    "colab": {
     "base_uri": "https://localhost:8080/",
     "height": 34
    },
    "colab_type": "code",
    "executionInfo": {
     "elapsed": 9609,
     "status": "ok",
     "timestamp": 1595662931275,
     "user": {
      "displayName": "Amit Singh",
      "photoUrl": "https://lh5.googleusercontent.com/-21tlpMHV94E/AAAAAAAAAAI/AAAAAAAAGgs/a-cO-Bg6i8s/s64/photo.jpg",
      "userId": "01480187702625975519"
     },
     "user_tz": -330
    },
    "id": "VBPSelzE2-V4",
    "outputId": "10163cf0-ed93-4682-d543-1ceb38e216fa"
   },
   "outputs": [
    {
     "name": "stdout",
     "output_type": "stream",
     "text": [
      "1000000 loops, best of 3: 1.84 µs per loop\n"
     ]
    }
   ],
   "source": [
    "%timeit [ i*j for i in range(4) for j in range(4)]"
   ]
  },
  {
   "cell_type": "markdown",
   "metadata": {
    "colab_type": "text",
    "id": "L30GCjAw7HQN"
   },
   "source": [
    "**Some examples of IN and OUT keyword uses** "
   ]
  },
  {
   "cell_type": "code",
   "execution_count": null,
   "metadata": {
    "colab": {
     "base_uri": "https://localhost:8080/",
     "height": 87
    },
    "colab_type": "code",
    "executionInfo": {
     "elapsed": 652,
     "status": "ok",
     "timestamp": 1595663574697,
     "user": {
      "displayName": "Amit Singh",
      "photoUrl": "https://lh5.googleusercontent.com/-21tlpMHV94E/AAAAAAAAAAI/AAAAAAAAGgs/a-cO-Bg6i8s/s64/photo.jpg",
      "userId": "01480187702625975519"
     },
     "user_tz": -330
    },
    "id": "POi1-zXO7EPs",
    "outputId": "d5070f0b-d858-4b8a-b606-f268b1b08ba0"
   },
   "outputs": [
    {
     "name": "stdout",
     "output_type": "stream",
     "text": [
      "0.9092974268256817\n",
      "-0.9899924966004454\n",
      "['', \"get_ipython().magic('paste')\\ndef sum(a,b):\\n  c=a+b\\n  return c\\nsum(5,3)\", \"get_ipython().magic('cpaste')\\ndef sum(a,b):\\n  c=a+b\\n  return c\\nsum(5,3)\", \"get_ipython().magic('cpaste')\\nimport numpy as np\\n\\na = np.array([[1,2,3],[0,1,4]])\\nb = np.zeros((2,3), dtype=np.int16)\\nc = np.ones((2,3), dtype=np.int16)\\nd = a + b + c\\nprint(d[1,2])\", \"def sum(a,b):\\n  c=a+b\\n  return c\\nsum(2,3)\\nget_ipython().magic('run Numpy practice')\", \"def sum(a,b):\\n  c=a+b\\n  return c\\nsum(2,3)\\nget_ipython().magic('run Numpypractice')\", \"def sum(a,b):\\n  c=a+b\\n  return c\\nsum(2,3)\\nget_ipython().magic('run Numpypractice')\", \"def sum(a,b):\\n  c=a+b\\n  return c\\nsum(2,3)\\nget_ipython().magic('run Numpypractice.py')\", \"def sum(a,b):\\n  c=a+b\\n  return c\\nsum(2,3)\\nget_ipython().magic('run Numpypractice.ipynb')\", \"def sum(x):\\n  return X**2\\nsum(2)\\nget_ipython().magic('run Numpypractice.ipynb')\", \"def sum(x):\\n  return x**2\\nsum(2)\\nget_ipython().magic('run Numpypractice.ipynb')\", \"def sum(x):\\n  return x**2\\nsum(2)\\nget_ipython().magic('run Practice.ipynb')\", \"def sum(x):\\n  return x**2\\nsum(2)\\nget_ipython().magic('run Practice.py')\", \"def sum(x):\\n  return x**2\\nprint(sum(2))\\nget_ipython().magic('run Practice.py')\", \"def sum(x):\\n  return x**2\\nprint(sum(2))\\nget_ipython().magic('run Practice.ipynb')\", \"get_ipython().magic('timeit [ i*j for i in range(4) for j in range(4)]')\", 'import math\\nmath.sin(2)\\nmath.cos(3)\\nprint(In)', 'import math\\nmath.sin(2)\\nmath.cos(3)\\nprint(In)\\nprint(Out)', 'import math\\nmath.sin(2)\\nmath.cos(2)\\nprint(In)\\nprint(Out)', 'print(out)', 'print(Out)', 'import math\\nprint(math.sin(2))\\nprint(math.cos(2))\\nprint(In)', 'print(Out)', 'print(Out)', 'print(Out)', 'print(_)', 'print(__)', '5+7', 'print(_)', 'print(__)', 'import math\\nprint(math.sin(2))\\nprint(math.cos(3))', 'print(__)', 'import math\\nprint(math.sin(2))\\nprint(math.cos(3))\\n9+6', 'print(__)', '5+7', 'print(__)', 'import math\\nprint(math.sin(2))\\nprint(math.cos(3))\\nprint(In)']\n"
     ]
    }
   ],
   "source": [
    "import math\n",
    "print(math.sin(2))\n",
    "print(math.cos(3))\n",
    "print(In)\n"
   ]
  },
  {
   "cell_type": "code",
   "execution_count": null,
   "metadata": {
    "colab": {
     "base_uri": "https://localhost:8080/",
     "height": 34
    },
    "colab_type": "code",
    "executionInfo": {
     "elapsed": 1136,
     "status": "ok",
     "timestamp": 1595663711706,
     "user": {
      "displayName": "Amit Singh",
      "photoUrl": "https://lh5.googleusercontent.com/-21tlpMHV94E/AAAAAAAAAAI/AAAAAAAAGgs/a-cO-Bg6i8s/s64/photo.jpg",
      "userId": "01480187702625975519"
     },
     "user_tz": -330
    },
    "id": "tbcWHOVW7uvL",
    "outputId": "c3b016bc-bd1d-4cf0-8a71-0b4c9a7b4777"
   },
   "outputs": [
    {
     "name": "stdout",
     "output_type": "stream",
     "text": [
      "25\n"
     ]
    }
   ],
   "source": [
    "def sq(n):\n",
    "  return n**2\n",
    "print(sq(5))"
   ]
  },
  {
   "cell_type": "code",
   "execution_count": null,
   "metadata": {
    "colab": {
     "base_uri": "https://localhost:8080/",
     "height": 34
    },
    "colab_type": "code",
    "executionInfo": {
     "elapsed": 1276,
     "status": "ok",
     "timestamp": 1595663723699,
     "user": {
      "displayName": "Amit Singh",
      "photoUrl": "https://lh5.googleusercontent.com/-21tlpMHV94E/AAAAAAAAAAI/AAAAAAAAGgs/a-cO-Bg6i8s/s64/photo.jpg",
      "userId": "01480187702625975519"
     },
     "user_tz": -330
    },
    "id": "NEPykSmK-A1Q",
    "outputId": "5ceb720f-ae58-4706-ed58-a756fd0a2df4"
   },
   "outputs": [
    {
     "name": "stdout",
     "output_type": "stream",
     "text": [
      "{27: 12, 32: 15, 34: 12}\n"
     ]
    }
   ],
   "source": [
    "print(Out)"
   ]
  },
  {
   "cell_type": "markdown",
   "metadata": {
    "colab_type": "text",
    "id": "vja1FlRh8xbI"
   },
   "source": [
    "**Uses of underscore **"
   ]
  },
  {
   "cell_type": "code",
   "execution_count": null,
   "metadata": {
    "colab": {
     "base_uri": "https://localhost:8080/",
     "height": 34
    },
    "colab_type": "code",
    "executionInfo": {
     "elapsed": 1140,
     "status": "ok",
     "timestamp": 1595663695707,
     "user": {
      "displayName": "Amit Singh",
      "photoUrl": "https://lh5.googleusercontent.com/-21tlpMHV94E/AAAAAAAAAAI/AAAAAAAAGgs/a-cO-Bg6i8s/s64/photo.jpg",
      "userId": "01480187702625975519"
     },
     "user_tz": -330
    },
    "id": "GO30nz-f8vV6",
    "outputId": "4b5d794a-037b-4b02-9347-5c66f844d4d2"
   },
   "outputs": [
    {
     "name": "stdout",
     "output_type": "stream",
     "text": [
      "12\n"
     ]
    }
   ],
   "source": [
    "print(_)"
   ]
  },
  {
   "cell_type": "code",
   "execution_count": null,
   "metadata": {
    "colab": {
     "base_uri": "https://localhost:8080/",
     "height": 34
    },
    "colab_type": "code",
    "executionInfo": {
     "elapsed": 1310,
     "status": "ok",
     "timestamp": 1595663745332,
     "user": {
      "displayName": "Amit Singh",
      "photoUrl": "https://lh5.googleusercontent.com/-21tlpMHV94E/AAAAAAAAAAI/AAAAAAAAGgs/a-cO-Bg6i8s/s64/photo.jpg",
      "userId": "01480187702625975519"
     },
     "user_tz": -330
    },
    "id": "zkwLYVw5-FaT",
    "outputId": "4ed2d4b7-a600-4d5b-de4b-c33182ee01e2"
   },
   "outputs": [
    {
     "name": "stdout",
     "output_type": "stream",
     "text": [
      "15\n"
     ]
    }
   ],
   "source": [
    "print(__)"
   ]
  },
  {
   "cell_type": "code",
   "execution_count": null,
   "metadata": {
    "colab": {
     "base_uri": "https://localhost:8080/",
     "height": 1000
    },
    "colab_type": "code",
    "executionInfo": {
     "elapsed": 1174,
     "status": "ok",
     "timestamp": 1595663802898,
     "user": {
      "displayName": "Amit Singh",
      "photoUrl": "https://lh5.googleusercontent.com/-21tlpMHV94E/AAAAAAAAAAI/AAAAAAAAGgs/a-cO-Bg6i8s/s64/photo.jpg",
      "userId": "01480187702625975519"
     },
     "user_tz": -330
    },
    "id": "JDBqexf2-JEC",
    "outputId": "a6b26b0d-999d-4661-b28f-4394f7613457"
   },
   "outputs": [
    {
     "name": "stdout",
     "output_type": "stream",
     "text": [
      "%paste\n",
      "def sum(a,b):\n",
      "  c=a+b\n",
      "  return c\n",
      "sum(5,3)\n",
      "%cpaste\n",
      "def sum(a,b):\n",
      "  c=a+b\n",
      "  return c\n",
      "sum(5,3)\n",
      "%cpaste\n",
      "import numpy as np\n",
      "\n",
      "a = np.array([[1,2,3],[0,1,4]])\n",
      "b = np.zeros((2,3), dtype=np.int16)\n",
      "c = np.ones((2,3), dtype=np.int16)\n",
      "d = a + b + c\n",
      "print(d[1,2])\n",
      "def sum(a,b):\n",
      "  c=a+b\n",
      "  return c\n",
      "sum(2,3)\n",
      "%run Numpy practice\n",
      "def sum(a,b):\n",
      "  c=a+b\n",
      "  return c\n",
      "sum(2,3)\n",
      "%run Numpypractice\n",
      "def sum(a,b):\n",
      "  c=a+b\n",
      "  return c\n",
      "sum(2,3)\n",
      "%run Numpypractice\n",
      "def sum(a,b):\n",
      "  c=a+b\n",
      "  return c\n",
      "sum(2,3)\n",
      "%run Numpypractice.py\n",
      "def sum(a,b):\n",
      "  c=a+b\n",
      "  return c\n",
      "sum(2,3)\n",
      "%run Numpypractice.ipynb\n",
      "def sum(x):\n",
      "  return X**2\n",
      "sum(2)\n",
      "%run Numpypractice.ipynb\n",
      "def sum(x):\n",
      "  return x**2\n",
      "sum(2)\n",
      "%run Numpypractice.ipynb\n",
      "def sum(x):\n",
      "  return x**2\n",
      "sum(2)\n",
      "%run Practice.ipynb\n",
      "def sum(x):\n",
      "  return x**2\n",
      "sum(2)\n",
      "%run Practice.py\n",
      "def sum(x):\n",
      "  return x**2\n",
      "print(sum(2))\n",
      "%run Practice.py\n",
      "def sum(x):\n",
      "  return x**2\n",
      "print(sum(2))\n",
      "%run Practice.ipynb\n",
      "%timeit [ i*j for i in range(4) for j in range(4)]\n",
      "import math\n",
      "math.sin(2)\n",
      "math.cos(3)\n",
      "print(In)\n",
      "import math\n",
      "math.sin(2)\n",
      "math.cos(3)\n",
      "print(In)\n",
      "print(Out)\n",
      "import math\n",
      "math.sin(2)\n",
      "math.cos(2)\n",
      "print(In)\n",
      "print(Out)\n",
      "print(out)\n",
      "print(Out)\n",
      "import math\n",
      "print(math.sin(2))\n",
      "print(math.cos(2))\n",
      "print(In)\n",
      "print(Out)\n",
      "print(Out)\n",
      "print(Out)\n",
      "print(_)\n",
      "print(__)\n",
      "5+7\n",
      "print(_)\n",
      "print(__)\n",
      "import math\n",
      "print(math.sin(2))\n",
      "print(math.cos(3))\n",
      "print(__)\n",
      "import math\n",
      "print(math.sin(2))\n",
      "print(math.cos(3))\n",
      "9+6\n",
      "print(__)\n",
      "5+7\n",
      "print(__)\n",
      "import math\n",
      "print(math.sin(2))\n",
      "print(math.cos(3))\n",
      "print(In)\n",
      "print(Out)\n",
      "def sq(n):\n",
      "  return n**2\n",
      "print(sq(5))\n",
      "def sq(n):\n",
      "  return n**2\n",
      "print(sq(5))\n",
      "print(Out)\n",
      "print(_)\n",
      "def sq(n):\n",
      "  return n**2\n",
      "print(sq(5))\n",
      "print(Out)\n",
      "print(__)\n",
      "print(_2)\n",
      "print(-2)\n",
      "print(_2)\n",
      "%history\n"
     ]
    }
   ],
   "source": [
    "%history"
   ]
  },
  {
   "cell_type": "markdown",
   "metadata": {
    "colab_type": "text",
    "id": "sRIHnFXZ-cjD"
   },
   "source": [
    "Introduction to Numpy"
   ]
  },
  {
   "cell_type": "code",
   "execution_count": 1,
   "metadata": {
    "colab": {
     "base_uri": "https://localhost:8080/",
     "height": 33
    },
    "colab_type": "code",
    "executionInfo": {
     "elapsed": 2189,
     "status": "ok",
     "timestamp": 1595833166802,
     "user": {
      "displayName": "Amit Singh",
      "photoUrl": "https://lh5.googleusercontent.com/-21tlpMHV94E/AAAAAAAAAAI/AAAAAAAAGgs/a-cO-Bg6i8s/s64/photo.jpg",
      "userId": "01480187702625975519"
     },
     "user_tz": -330
    },
    "id": "Sj7ulg7w-akH",
    "outputId": "756e31fa-4993-400b-f0d4-4a2c327335df"
   },
   "outputs": [
    {
     "data": {
      "text/plain": [
       "array([1, 2, 3])"
      ]
     },
     "execution_count": 1,
     "metadata": {
      "tags": []
     },
     "output_type": "execute_result"
    }
   ],
   "source": [
    "#for create an array from list\n",
    "import numpy as np\n",
    "np.array([1,2,3],dtype=\"int64\")"
   ]
  },
  {
   "cell_type": "code",
   "execution_count": null,
   "metadata": {
    "colab": {
     "base_uri": "https://localhost:8080/",
     "height": 67
    },
    "colab_type": "code",
    "executionInfo": {
     "elapsed": 1223,
     "status": "ok",
     "timestamp": 1595664207648,
     "user": {
      "displayName": "Amit Singh",
      "photoUrl": "https://lh5.googleusercontent.com/-21tlpMHV94E/AAAAAAAAAAI/AAAAAAAAGgs/a-cO-Bg6i8s/s64/photo.jpg",
      "userId": "01480187702625975519"
     },
     "user_tz": -330
    },
    "id": "QsbirgCh_OmG",
    "outputId": "1d922624-55df-4192-9853-8c5ca71fed9b"
   },
   "outputs": [
    {
     "name": "stdout",
     "output_type": "stream",
     "text": [
      "[[2 3 4]\n",
      " [4 5 6]\n",
      " [6 7 8]]\n"
     ]
    }
   ],
   "source": [
    "multiarray=np.array( [range(i,i+3) for i in [2,4,6]])\n",
    "print(multiarray)"
   ]
  },
  {
   "cell_type": "code",
   "execution_count": null,
   "metadata": {
    "colab": {
     "base_uri": "https://localhost:8080/",
     "height": 34
    },
    "colab_type": "code",
    "executionInfo": {
     "elapsed": 2993,
     "status": "ok",
     "timestamp": 1595664737480,
     "user": {
      "displayName": "Amit Singh",
      "photoUrl": "https://lh5.googleusercontent.com/-21tlpMHV94E/AAAAAAAAAAI/AAAAAAAAGgs/a-cO-Bg6i8s/s64/photo.jpg",
      "userId": "01480187702625975519"
     },
     "user_tz": -330
    },
    "id": "v-DPnQhgAA9F",
    "outputId": "1f44c8a7-ed17-4768-c052-4574565d1ad0"
   },
   "outputs": [
    {
     "data": {
      "text/plain": [
       "array([[0, 0]])"
      ]
     },
     "execution_count": 61,
     "metadata": {
      "tags": []
     },
     "output_type": "execute_result"
    }
   ],
   "source": [
    "#create a length of 10 integer\n",
    "np.zeros((1,2),dtype=int)"
   ]
  },
  {
   "cell_type": "code",
   "execution_count": null,
   "metadata": {
    "colab": {
     "base_uri": "https://localhost:8080/",
     "height": 67
    },
    "colab_type": "code",
    "executionInfo": {
     "elapsed": 1180,
     "status": "ok",
     "timestamp": 1595664712952,
     "user": {
      "displayName": "Amit Singh",
      "photoUrl": "https://lh5.googleusercontent.com/-21tlpMHV94E/AAAAAAAAAAI/AAAAAAAAGgs/a-cO-Bg6i8s/s64/photo.jpg",
      "userId": "01480187702625975519"
     },
     "user_tz": -330
    },
    "id": "0sH9DIhrBiw-",
    "outputId": "ed56ef2d-c09d-4a03-d7ab-30c79f129fa2"
   },
   "outputs": [
    {
     "data": {
      "text/plain": [
       "array([[1., 1., 1., 1., 1.],\n",
       "       [1., 1., 1., 1., 1.],\n",
       "       [1., 1., 1., 1., 1.]])"
      ]
     },
     "execution_count": 60,
     "metadata": {
      "tags": []
     },
     "output_type": "execute_result"
    }
   ],
   "source": [
    "#create 3*5 floating point array\n",
    "np.ones((3,5),dtype=float)"
   ]
  },
  {
   "cell_type": "code",
   "execution_count": null,
   "metadata": {
    "colab": {
     "base_uri": "https://localhost:8080/",
     "height": 67
    },
    "colab_type": "code",
    "executionInfo": {
     "elapsed": 3018,
     "status": "ok",
     "timestamp": 1595664892461,
     "user": {
      "displayName": "Amit Singh",
      "photoUrl": "https://lh5.googleusercontent.com/-21tlpMHV94E/AAAAAAAAAAI/AAAAAAAAGgs/a-cO-Bg6i8s/s64/photo.jpg",
      "userId": "01480187702625975519"
     },
     "user_tz": -330
    },
    "id": "vK7kUEv4CEIv",
    "outputId": "024767ac-93ca-417c-e024-705a1730a4e5"
   },
   "outputs": [
    {
     "data": {
      "text/plain": [
       "array([[5, 5, 5, 5, 5],\n",
       "       [5, 5, 5, 5, 5],\n",
       "       [5, 5, 5, 5, 5]])"
      ]
     },
     "execution_count": 62,
     "metadata": {
      "tags": []
     },
     "output_type": "execute_result"
    }
   ],
   "source": [
    "#Full the matxic with one value\n",
    "np.full((3,5),5)"
   ]
  },
  {
   "cell_type": "code",
   "execution_count": null,
   "metadata": {
    "colab": {
     "base_uri": "https://localhost:8080/",
     "height": 34
    },
    "colab_type": "code",
    "executionInfo": {
     "elapsed": 2403,
     "status": "ok",
     "timestamp": 1595665000140,
     "user": {
      "displayName": "Amit Singh",
      "photoUrl": "https://lh5.googleusercontent.com/-21tlpMHV94E/AAAAAAAAAAI/AAAAAAAAGgs/a-cO-Bg6i8s/s64/photo.jpg",
      "userId": "01480187702625975519"
     },
     "user_tz": -330
    },
    "id": "wfmrcEg_ChCK",
    "outputId": "457a6bfd-5458-43b0-d090-f50cf1df3bab"
   },
   "outputs": [
    {
     "data": {
      "text/plain": [
       "numpy.ndarray"
      ]
     },
     "execution_count": 64,
     "metadata": {
      "tags": []
     },
     "output_type": "execute_result"
    }
   ],
   "source": [
    "#use of arange \n",
    "np.arange(0,20,2)\n",
    "type(np.arange(0,20,2))"
   ]
  },
  {
   "cell_type": "code",
   "execution_count": null,
   "metadata": {
    "colab": {
     "base_uri": "https://localhost:8080/",
     "height": 34
    },
    "colab_type": "code",
    "executionInfo": {
     "elapsed": 1194,
     "status": "ok",
     "timestamp": 1595665666751,
     "user": {
      "displayName": "Amit Singh",
      "photoUrl": "https://lh5.googleusercontent.com/-21tlpMHV94E/AAAAAAAAAAI/AAAAAAAAGgs/a-cO-Bg6i8s/s64/photo.jpg",
      "userId": "01480187702625975519"
     },
     "user_tz": -330
    },
    "id": "1-jX6Cs7C77r",
    "outputId": "c7195a14-a65c-488e-ac30-9b444b20233a"
   },
   "outputs": [
    {
     "data": {
      "text/plain": [
       "array([0.  , 0.25, 0.5 , 0.75, 1.  ])"
      ]
     },
     "execution_count": 69,
     "metadata": {
      "tags": []
     },
     "output_type": "execute_result"
    }
   ],
   "source": [
    "# For evenly spaced \n",
    "np.linspace(0,1,5)"
   ]
  },
  {
   "cell_type": "code",
   "execution_count": null,
   "metadata": {
    "colab": {
     "base_uri": "https://localhost:8080/",
     "height": 67
    },
    "colab_type": "code",
    "executionInfo": {
     "elapsed": 1361,
     "status": "ok",
     "timestamp": 1595665167878,
     "user": {
      "displayName": "Amit Singh",
      "photoUrl": "https://lh5.googleusercontent.com/-21tlpMHV94E/AAAAAAAAAAI/AAAAAAAAGgs/a-cO-Bg6i8s/s64/photo.jpg",
      "userId": "01480187702625975519"
     },
     "user_tz": -330
    },
    "id": "lFqIvBQIDRMn",
    "outputId": "11e1164d-ddfa-4f06-d621-0f046a201144"
   },
   "outputs": [
    {
     "data": {
      "text/plain": [
       "array([[0.27206472, 0.71177254, 0.79278674, 0.64555035, 0.15775758],\n",
       "       [0.38689183, 0.10133043, 0.11324674, 0.19092785, 0.1444322 ],\n",
       "       [0.05025535, 0.23784008, 0.81699617, 0.94403776, 0.71978045]])"
      ]
     },
     "execution_count": 68,
     "metadata": {
      "tags": []
     },
     "output_type": "execute_result"
    }
   ],
   "source": [
    "#random value b/w 0 to 1\n",
    "np.random.random((3,5))"
   ]
  },
  {
   "cell_type": "code",
   "execution_count": null,
   "metadata": {
    "colab": {
     "base_uri": "https://localhost:8080/",
     "height": 67
    },
    "colab_type": "code",
    "executionInfo": {
     "elapsed": 1326,
     "status": "ok",
     "timestamp": 1595665722859,
     "user": {
      "displayName": "Amit Singh",
      "photoUrl": "https://lh5.googleusercontent.com/-21tlpMHV94E/AAAAAAAAAAI/AAAAAAAAGgs/a-cO-Bg6i8s/s64/photo.jpg",
      "userId": "01480187702625975519"
     },
     "user_tz": -330
    },
    "id": "-NQ4hiRyDkwo",
    "outputId": "a3ba516d-5fd3-4ea5-9c5d-47a7fa52a39f"
   },
   "outputs": [
    {
     "data": {
      "text/plain": [
       "array([[ 0.82623177, -0.67535301, -0.04198735],\n",
       "       [ 0.33835646, -0.6649019 , -0.20652141],\n",
       "       [ 0.99640116,  0.53176375,  0.17202196]])"
      ]
     },
     "execution_count": 70,
     "metadata": {
      "tags": []
     },
     "output_type": "execute_result"
    }
   ],
   "source": [
    "np.random.normal(0,1,(3,3))"
   ]
  },
  {
   "cell_type": "code",
   "execution_count": null,
   "metadata": {
    "colab": {
     "base_uri": "https://localhost:8080/",
     "height": 67
    },
    "colab_type": "code",
    "executionInfo": {
     "elapsed": 1615,
     "status": "ok",
     "timestamp": 1595665824447,
     "user": {
      "displayName": "Amit Singh",
      "photoUrl": "https://lh5.googleusercontent.com/-21tlpMHV94E/AAAAAAAAAAI/AAAAAAAAGgs/a-cO-Bg6i8s/s64/photo.jpg",
      "userId": "01480187702625975519"
     },
     "user_tz": -330
    },
    "id": "au9CNgGPFzK8",
    "outputId": "b4ef6a9d-24d6-4478-f477-486226689896"
   },
   "outputs": [
    {
     "data": {
      "text/plain": [
       "array([[9, 1, 9],\n",
       "       [5, 4, 4],\n",
       "       [2, 2, 8]])"
      ]
     },
     "execution_count": 71,
     "metadata": {
      "tags": []
     },
     "output_type": "execute_result"
    }
   ],
   "source": [
    "#Random number in integer on  range\n",
    "np.random .randint(1,10,(3,3))"
   ]
  },
  {
   "cell_type": "code",
   "execution_count": null,
   "metadata": {
    "colab": {
     "base_uri": "https://localhost:8080/",
     "height": 67
    },
    "colab_type": "code",
    "executionInfo": {
     "elapsed": 1068,
     "status": "ok",
     "timestamp": 1595665930961,
     "user": {
      "displayName": "Amit Singh",
      "photoUrl": "https://lh5.googleusercontent.com/-21tlpMHV94E/AAAAAAAAAAI/AAAAAAAAGgs/a-cO-Bg6i8s/s64/photo.jpg",
      "userId": "01480187702625975519"
     },
     "user_tz": -330
    },
    "id": "V1MmmJDwGF5I",
    "outputId": "cafb891d-3a56-441d-e71a-473a94d6d500"
   },
   "outputs": [
    {
     "data": {
      "text/plain": [
       "array([[1., 0., 0.],\n",
       "       [0., 1., 0.],\n",
       "       [0., 0., 1.]])"
      ]
     },
     "execution_count": 75,
     "metadata": {
      "tags": []
     },
     "output_type": "execute_result"
    }
   ],
   "source": [
    "#for identical matrix \n",
    "np.eye(3,3)"
   ]
  },
  {
   "cell_type": "code",
   "execution_count": null,
   "metadata": {
    "colab": {
     "base_uri": "https://localhost:8080/",
     "height": 84
    },
    "colab_type": "code",
    "executionInfo": {
     "elapsed": 1342,
     "status": "ok",
     "timestamp": 1595688770650,
     "user": {
      "displayName": "Amit Singh",
      "photoUrl": "https://lh5.googleusercontent.com/-21tlpMHV94E/AAAAAAAAAAI/AAAAAAAAGgs/a-cO-Bg6i8s/s64/photo.jpg",
      "userId": "01480187702625975519"
     },
     "user_tz": -330
    },
    "id": "Nx3A8VrQGeUD",
    "outputId": "28127ec2-df72-4c0c-d118-2e35ff3b4025"
   },
   "outputs": [
    {
     "name": "stdout",
     "output_type": "stream",
     "text": [
      "3\n",
      "(3, 4, 5)\n",
      "60\n",
      "int64\n"
     ]
    }
   ],
   "source": [
    "#NUMPY Attributes \n",
    "np.random.seed(0)\n",
    "X1=np.random.randint(10,size=6)\n",
    "X2=np.random.randint(10,size=(3,3))\n",
    "X3=np.random.randint(10,size=(3,4,5))\n",
    "print(X3.ndim) #no of dimension\n",
    "print(X3.shape) # total no of size of each dimension\n",
    "print(X3.size) # total no of element\n",
    "print(X3.dtype)\n"
   ]
  },
  {
   "cell_type": "markdown",
   "metadata": {
    "colab_type": "text",
    "id": "XOKwa1LydDs4"
   },
   "source": [
    "Array indexing :Accessing single elements"
   ]
  },
  {
   "cell_type": "code",
   "execution_count": null,
   "metadata": {
    "colab": {
     "base_uri": "https://localhost:8080/",
     "height": 50
    },
    "colab_type": "code",
    "executionInfo": {
     "elapsed": 1045,
     "status": "ok",
     "timestamp": 1595688807723,
     "user": {
      "displayName": "Amit Singh",
      "photoUrl": "https://lh5.googleusercontent.com/-21tlpMHV94E/AAAAAAAAAAI/AAAAAAAAGgs/a-cO-Bg6i8s/s64/photo.jpg",
      "userId": "01480187702625975519"
     },
     "user_tz": -330
    },
    "id": "w4CgPOCnJxO_",
    "outputId": "b594bc7a-f166-4cdb-e7b2-5bd450a3bfbe"
   },
   "outputs": [
    {
     "name": "stdout",
     "output_type": "stream",
     "text": [
      "[[3 5]\n",
      " [4 7]]\n"
     ]
    }
   ],
   "source": [
    "x2_sub=X2[:2,:2]\n",
    "print(x2_sub)"
   ]
  },
  {
   "cell_type": "code",
   "execution_count": null,
   "metadata": {
    "colab": {
     "base_uri": "https://localhost:8080/",
     "height": 50
    },
    "colab_type": "code",
    "executionInfo": {
     "elapsed": 1298,
     "status": "ok",
     "timestamp": 1595689046342,
     "user": {
      "displayName": "Amit Singh",
      "photoUrl": "https://lh5.googleusercontent.com/-21tlpMHV94E/AAAAAAAAAAI/AAAAAAAAGgs/a-cO-Bg6i8s/s64/photo.jpg",
      "userId": "01480187702625975519"
     },
     "user_tz": -330
    },
    "id": "UZEYX93Zd-aX",
    "outputId": "b99686ea-1e2f-423f-a758-5510f8d8cb91"
   },
   "outputs": [
    {
     "name": "stdout",
     "output_type": "stream",
     "text": [
      "[[42  5]\n",
      " [ 4  7]]\n"
     ]
    }
   ],
   "source": [
    "#Copy() function use \n",
    "x2_sub_copy=X2[:2,:2].copy()\n",
    "x2_sub_copy[0,0]=42\n",
    "print(x2_sub_copy)"
   ]
  },
  {
   "cell_type": "code",
   "execution_count": null,
   "metadata": {
    "colab": {
     "base_uri": "https://localhost:8080/",
     "height": 67
    },
    "colab_type": "code",
    "executionInfo": {
     "elapsed": 1077,
     "status": "ok",
     "timestamp": 1595689125338,
     "user": {
      "displayName": "Amit Singh",
      "photoUrl": "https://lh5.googleusercontent.com/-21tlpMHV94E/AAAAAAAAAAI/AAAAAAAAGgs/a-cO-Bg6i8s/s64/photo.jpg",
      "userId": "01480187702625975519"
     },
     "user_tz": -330
    },
    "id": "U1sVffaPerhB",
    "outputId": "4d25839b-cca6-4094-df57-528a7bac4e7e"
   },
   "outputs": [
    {
     "data": {
      "text/plain": [
       "array([[1, 2, 3],\n",
       "       [4, 5, 6],\n",
       "       [7, 8, 9]])"
      ]
     },
     "execution_count": 10,
     "metadata": {
      "tags": []
     },
     "output_type": "execute_result"
    }
   ],
   "source": [
    "#reshape : It is use to reshape the array\n",
    "grid=np.arange(1,10).reshape((3,3))\n",
    "grid"
   ]
  },
  {
   "cell_type": "markdown",
   "metadata": {
    "colab_type": "text",
    "id": "4SFecaDAfCbE"
   },
   "source": [
    "Concatenation of Arrays"
   ]
  },
  {
   "cell_type": "code",
   "execution_count": null,
   "metadata": {
    "colab": {
     "base_uri": "https://localhost:8080/",
     "height": 33
    },
    "colab_type": "code",
    "executionInfo": {
     "elapsed": 1879,
     "status": "ok",
     "timestamp": 1595689234691,
     "user": {
      "displayName": "Amit Singh",
      "photoUrl": "https://lh5.googleusercontent.com/-21tlpMHV94E/AAAAAAAAAAI/AAAAAAAAGgs/a-cO-Bg6i8s/s64/photo.jpg",
      "userId": "01480187702625975519"
     },
     "user_tz": -330
    },
    "id": "nyDyZtiDfHFW",
    "outputId": "593592a1-954e-4cb2-8d48-18f74e301f46"
   },
   "outputs": [
    {
     "data": {
      "text/plain": [
       "array([1, 2, 3, 4, 5, 6])"
      ]
     },
     "execution_count": 11,
     "metadata": {
      "tags": []
     },
     "output_type": "execute_result"
    }
   ],
   "source": [
    "x=np.array([1,2,3])\n",
    "y=np.array([4,5,6])\n",
    "np.concatenate([x,y])"
   ]
  },
  {
   "cell_type": "code",
   "execution_count": null,
   "metadata": {
    "colab": {
     "base_uri": "https://localhost:8080/",
     "height": 84
    },
    "colab_type": "code",
    "executionInfo": {
     "elapsed": 1097,
     "status": "ok",
     "timestamp": 1595689355950,
     "user": {
      "displayName": "Amit Singh",
      "photoUrl": "https://lh5.googleusercontent.com/-21tlpMHV94E/AAAAAAAAAAI/AAAAAAAAGgs/a-cO-Bg6i8s/s64/photo.jpg",
      "userId": "01480187702625975519"
     },
     "user_tz": -330
    },
    "id": "AY5bVtiHffyJ",
    "outputId": "9f30550e-f497-4eb0-df9c-a119998086af"
   },
   "outputs": [
    {
     "data": {
      "text/plain": [
       "array([[1, 2, 3],\n",
       "       [4, 5, 6],\n",
       "       [1, 2, 3],\n",
       "       [4, 5, 6]])"
      ]
     },
     "execution_count": 12,
     "metadata": {
      "tags": []
     },
     "output_type": "execute_result"
    }
   ],
   "source": [
    "grid=np.array([[1,2,3],\n",
    "               [4,5,6]])\n",
    "np.concatenate([grid,grid])"
   ]
  },
  {
   "cell_type": "code",
   "execution_count": null,
   "metadata": {
    "colab": {
     "base_uri": "https://localhost:8080/",
     "height": 50
    },
    "colab_type": "code",
    "executionInfo": {
     "elapsed": 1928,
     "status": "ok",
     "timestamp": 1595689432028,
     "user": {
      "displayName": "Amit Singh",
      "photoUrl": "https://lh5.googleusercontent.com/-21tlpMHV94E/AAAAAAAAAAI/AAAAAAAAGgs/a-cO-Bg6i8s/s64/photo.jpg",
      "userId": "01480187702625975519"
     },
     "user_tz": -330
    },
    "id": "w7vzViw4gCus",
    "outputId": "76ea3368-7637-47d7-f129-8e38a5451184"
   },
   "outputs": [
    {
     "data": {
      "text/plain": [
       "array([[1, 2, 3, 1, 2, 3],\n",
       "       [4, 5, 6, 4, 5, 6]])"
      ]
     },
     "execution_count": 13,
     "metadata": {
      "tags": []
     },
     "output_type": "execute_result"
    }
   ],
   "source": [
    "grid=np.array([[1,2,3],\n",
    "               [4,5,6]])\n",
    "np.concatenate([grid,grid],axis=1)"
   ]
  },
  {
   "cell_type": "markdown",
   "metadata": {
    "colab_type": "text",
    "id": "FADERyPzgQlj"
   },
   "source": [
    "np.vstack() and np.hstack() Examples and uses "
   ]
  },
  {
   "cell_type": "code",
   "execution_count": null,
   "metadata": {
    "colab": {
     "base_uri": "https://localhost:8080/",
     "height": 67
    },
    "colab_type": "code",
    "executionInfo": {
     "elapsed": 1256,
     "status": "ok",
     "timestamp": 1595689643196,
     "user": {
      "displayName": "Amit Singh",
      "photoUrl": "https://lh5.googleusercontent.com/-21tlpMHV94E/AAAAAAAAAAI/AAAAAAAAGgs/a-cO-Bg6i8s/s64/photo.jpg",
      "userId": "01480187702625975519"
     },
     "user_tz": -330
    },
    "id": "fkferKoigOaC",
    "outputId": "d91e6a84-8982-4b2d-9b8d-ab156518f47d"
   },
   "outputs": [
    {
     "data": {
      "text/plain": [
       "array([[1, 2, 3],\n",
       "       [9, 8, 7],\n",
       "       [6, 5, 4]])"
      ]
     },
     "execution_count": 15,
     "metadata": {
      "tags": []
     },
     "output_type": "execute_result"
    }
   ],
   "source": [
    "x=np.array([1,2,3,])\n",
    "grid=np.array([[9,8,7],\n",
    "               [6,5,4]])\n",
    "np.vstack([x,grid])"
   ]
  },
  {
   "cell_type": "code",
   "execution_count": null,
   "metadata": {
    "colab": {
     "base_uri": "https://localhost:8080/",
     "height": 50
    },
    "colab_type": "code",
    "executionInfo": {
     "elapsed": 1528,
     "status": "ok",
     "timestamp": 1595689797054,
     "user": {
      "displayName": "Amit Singh",
      "photoUrl": "https://lh5.googleusercontent.com/-21tlpMHV94E/AAAAAAAAAAI/AAAAAAAAGgs/a-cO-Bg6i8s/s64/photo.jpg",
      "userId": "01480187702625975519"
     },
     "user_tz": -330
    },
    "id": "GGhH64KIhR8L",
    "outputId": "06bc4d3f-c1c6-4744-aab9-959903e1486e"
   },
   "outputs": [
    {
     "data": {
      "text/plain": [
       "array([[9, 8, 7, 1, 2, 3],\n",
       "       [6, 5, 4, 4, 5, 6]])"
      ]
     },
     "execution_count": 16,
     "metadata": {
      "tags": []
     },
     "output_type": "execute_result"
    }
   ],
   "source": [
    "x=np.array([[1,2,3],\n",
    "               [4,5,6]])\n",
    "np.hstack([grid,x])"
   ]
  },
  {
   "cell_type": "markdown",
   "metadata": {
    "colab_type": "text",
    "id": "ibGhLBgigL60"
   },
   "source": [
    "Splitting arrays (np.split,np.hsplit,np.vsplit)"
   ]
  },
  {
   "cell_type": "code",
   "execution_count": null,
   "metadata": {
    "colab": {
     "base_uri": "https://localhost:8080/",
     "height": 50
    },
    "colab_type": "code",
    "executionInfo": {
     "elapsed": 1122,
     "status": "ok",
     "timestamp": 1595691020499,
     "user": {
      "displayName": "Amit Singh",
      "photoUrl": "https://lh5.googleusercontent.com/-21tlpMHV94E/AAAAAAAAAAI/AAAAAAAAGgs/a-cO-Bg6i8s/s64/photo.jpg",
      "userId": "01480187702625975519"
     },
     "user_tz": -330
    },
    "id": "q-jcFY1ugJ6O",
    "outputId": "ea9726da-3848-41f1-fb92-9a082407d82e"
   },
   "outputs": [
    {
     "name": "stdout",
     "output_type": "stream",
     "text": [
      "[0 1 2 3 4 5 6 7 8 9]\n",
      "[10 11 12 13 14 15 16 17 18 19]\n"
     ]
    }
   ],
   "source": [
    "x=np.arange(0,20)\n",
    "x1,x2=np.split(x,[10])\n",
    "print(x1)\n",
    "print(x2)"
   ]
  },
  {
   "cell_type": "code",
   "execution_count": null,
   "metadata": {
    "colab": {
     "base_uri": "https://localhost:8080/",
     "height": 84
    },
    "colab_type": "code",
    "executionInfo": {
     "elapsed": 1049,
     "status": "ok",
     "timestamp": 1595691129889,
     "user": {
      "displayName": "Amit Singh",
      "photoUrl": "https://lh5.googleusercontent.com/-21tlpMHV94E/AAAAAAAAAAI/AAAAAAAAGgs/a-cO-Bg6i8s/s64/photo.jpg",
      "userId": "01480187702625975519"
     },
     "user_tz": -330
    },
    "id": "lbkOIIeNmNwu",
    "outputId": "a56b74e2-ab12-4602-9831-a809f6628eca"
   },
   "outputs": [
    {
     "name": "stdout",
     "output_type": "stream",
     "text": [
      "[[0 1 2 3]\n",
      " [4 5 6 7]]\n",
      "[[ 8  9 10 11]\n",
      " [12 13 14 15]]\n"
     ]
    }
   ],
   "source": [
    "grid=np.arange(16).reshape((4,4))\n",
    "upper,lower=np.vsplit(grid,[2])\n",
    "print(upper)\n",
    "print(lower)"
   ]
  },
  {
   "cell_type": "code",
   "execution_count": null,
   "metadata": {
    "colab": {
     "base_uri": "https://localhost:8080/",
     "height": 150
    },
    "colab_type": "code",
    "executionInfo": {
     "elapsed": 1117,
     "status": "ok",
     "timestamp": 1595691194743,
     "user": {
      "displayName": "Amit Singh",
      "photoUrl": "https://lh5.googleusercontent.com/-21tlpMHV94E/AAAAAAAAAAI/AAAAAAAAGgs/a-cO-Bg6i8s/s64/photo.jpg",
      "userId": "01480187702625975519"
     },
     "user_tz": -330
    },
    "id": "h1Hy_90tmps-",
    "outputId": "b4d33691-aa1a-4b19-d00d-4c3e7e6800a8"
   },
   "outputs": [
    {
     "name": "stdout",
     "output_type": "stream",
     "text": [
      "[[ 0  1]\n",
      " [ 4  5]\n",
      " [ 8  9]\n",
      " [12 13]]\n",
      "[[ 2  3]\n",
      " [ 6  7]\n",
      " [10 11]\n",
      " [14 15]]\n"
     ]
    }
   ],
   "source": [
    "left,right=np.hsplit(grid,[2])\n",
    "print(left)\n",
    "print(right)"
   ]
  },
  {
   "cell_type": "markdown",
   "metadata": {
    "colab_type": "text",
    "id": "f7TJ16Iiss-6"
   },
   "source": [
    "Inverse the matrix"
   ]
  },
  {
   "cell_type": "code",
   "execution_count": null,
   "metadata": {
    "colab": {
     "base_uri": "https://localhost:8080/",
     "height": 50
    },
    "colab_type": "code",
    "executionInfo": {
     "elapsed": 1408,
     "status": "ok",
     "timestamp": 1595692958140,
     "user": {
      "displayName": "Amit Singh",
      "photoUrl": "https://lh5.googleusercontent.com/-21tlpMHV94E/AAAAAAAAAAI/AAAAAAAAGgs/a-cO-Bg6i8s/s64/photo.jpg",
      "userId": "01480187702625975519"
     },
     "user_tz": -330
    },
    "id": "x5SeGPN2m5LB",
    "outputId": "6eb62072-3dce-4e15-83f8-5f9de7087818"
   },
   "outputs": [
    {
     "data": {
      "text/plain": [
       "array([[1.        , 0.33333333, 0.2       , 0.14285714, 0.11111111],\n",
       "       [0.09090909, 0.07692308, 0.06666667, 0.05882353, 0.05263158]])"
      ]
     },
     "execution_count": 31,
     "metadata": {
      "tags": []
     },
     "output_type": "execute_result"
    }
   ],
   "source": [
    "x=np.arange(1,20,2).reshape(2,5)\n",
    "x\n",
    "y=1/x\n",
    "y"
   ]
  },
  {
   "cell_type": "markdown",
   "metadata": {
    "colab_type": "text",
    "id": "_ph090PwtvZ6"
   },
   "source": [
    "Airthmatical operation"
   ]
  },
  {
   "cell_type": "code",
   "execution_count": null,
   "metadata": {
    "colab": {
     "base_uri": "https://localhost:8080/",
     "height": 33
    },
    "colab_type": "code",
    "executionInfo": {
     "elapsed": 1151,
     "status": "ok",
     "timestamp": 1595693445260,
     "user": {
      "displayName": "Amit Singh",
      "photoUrl": "https://lh5.googleusercontent.com/-21tlpMHV94E/AAAAAAAAAAI/AAAAAAAAGgs/a-cO-Bg6i8s/s64/photo.jpg",
      "userId": "01480187702625975519"
     },
     "user_tz": -330
    },
    "id": "38y2aSGOt0J-",
    "outputId": "cb2acaaa-e74f-46c9-d792-7a2646d955c2"
   },
   "outputs": [
    {
     "data": {
      "text/plain": [
       "array([ 0,  6, 14, 24])"
      ]
     },
     "execution_count": 40,
     "metadata": {
      "tags": []
     },
     "output_type": "execute_result"
    }
   ],
   "source": [
    "x=np.arange(4)\n",
    "y=np.arange(5,9)\n",
    "x//2\n",
    "np.add(x,2)\n",
    "np.subtract(x,1)\n",
    "np.negative(x)\n",
    "np.multiply(x,y)\n"
   ]
  },
  {
   "cell_type": "code",
   "execution_count": null,
   "metadata": {
    "colab": {
     "base_uri": "https://localhost:8080/",
     "height": 33
    },
    "colab_type": "code",
    "executionInfo": {
     "elapsed": 1452,
     "status": "ok",
     "timestamp": 1595693622015,
     "user": {
      "displayName": "Amit Singh",
      "photoUrl": "https://lh5.googleusercontent.com/-21tlpMHV94E/AAAAAAAAAAI/AAAAAAAAGgs/a-cO-Bg6i8s/s64/photo.jpg",
      "userId": "01480187702625975519"
     },
     "user_tz": -330
    },
    "id": "ozDUCJ0PvkSL",
    "outputId": "76318bc7-484a-4139-f5f1-2a84ba51d4d1"
   },
   "outputs": [
    {
     "data": {
      "text/plain": [
       "array([1, 2, 3, 4])"
      ]
     },
     "execution_count": 41,
     "metadata": {
      "tags": []
     },
     "output_type": "execute_result"
    }
   ],
   "source": [
    "x=np.array([-1,2,-3,-4])\n",
    "np.abs(x) # or we can also use np.absolute"
   ]
  },
  {
   "cell_type": "markdown",
   "metadata": {
    "colab_type": "text",
    "id": "GGv7pC-cwX4X"
   },
   "source": [
    "Trignometric function"
   ]
  },
  {
   "cell_type": "code",
   "execution_count": null,
   "metadata": {
    "colab": {
     "base_uri": "https://localhost:8080/",
     "height": 50
    },
    "colab_type": "code",
    "executionInfo": {
     "elapsed": 1203,
     "status": "ok",
     "timestamp": 1595693848509,
     "user": {
      "displayName": "Amit Singh",
      "photoUrl": "https://lh5.googleusercontent.com/-21tlpMHV94E/AAAAAAAAAAI/AAAAAAAAGgs/a-cO-Bg6i8s/s64/photo.jpg",
      "userId": "01480187702625975519"
     },
     "user_tz": -330
    },
    "id": "GmiWQl-UwOk_",
    "outputId": "29d93f2e-b4dc-435c-d982-840dfb735dbd"
   },
   "outputs": [
    {
     "name": "stdout",
     "output_type": "stream",
     "text": [
      "Theta [0.         1.57079633 3.14159265]\n",
      "[0.0000000e+00 1.0000000e+00 1.2246468e-16]\n"
     ]
    }
   ],
   "source": [
    "theta=np.linspace(0,np.pi,3)\n",
    "print(\"Theta\",theta)\n",
    "print(np.sin(theta))"
   ]
  },
  {
   "cell_type": "code",
   "execution_count": null,
   "metadata": {
    "colab": {
     "base_uri": "https://localhost:8080/",
     "height": 50
    },
    "colab_type": "code",
    "executionInfo": {
     "elapsed": 2049,
     "status": "ok",
     "timestamp": 1595693990810,
     "user": {
      "displayName": "Amit Singh",
      "photoUrl": "https://lh5.googleusercontent.com/-21tlpMHV94E/AAAAAAAAAAI/AAAAAAAAGgs/a-cO-Bg6i8s/s64/photo.jpg",
      "userId": "01480187702625975519"
     },
     "user_tz": -330
    },
    "id": "mJUJLbirxNDW",
    "outputId": "96bebc6a-ce65-469b-b180-489b8ff11164"
   },
   "outputs": [
    {
     "name": "stdout",
     "output_type": "stream",
     "text": [
      "[-1.57079633  0.          1.57079633]\n",
      "[3.14159265 1.57079633 0.        ]\n"
     ]
    }
   ],
   "source": [
    "x=[-1,0,1]\n",
    "print(np.arcsin(x))\n",
    "print(np.arccos(x))"
   ]
  },
  {
   "cell_type": "markdown",
   "metadata": {
    "colab_type": "text",
    "id": "xNM5NeR4xl8_"
   },
   "source": [
    "Exponents and Logareithms"
   ]
  },
  {
   "cell_type": "code",
   "execution_count": null,
   "metadata": {
    "colab": {
     "base_uri": "https://localhost:8080/",
     "height": 134
    },
    "colab_type": "code",
    "executionInfo": {
     "elapsed": 1534,
     "status": "ok",
     "timestamp": 1595745960880,
     "user": {
      "displayName": "Amit Singh",
      "photoUrl": "https://lh5.googleusercontent.com/-21tlpMHV94E/AAAAAAAAAAI/AAAAAAAAGgs/a-cO-Bg6i8s/s64/photo.jpg",
      "userId": "01480187702625975519"
     },
     "user_tz": -330
    },
    "id": "0Duxo3RKxh08",
    "outputId": "41e231ad-cf4e-4106-ca90-7f0b98eb0e97"
   },
   "outputs": [
    {
     "name": "stdout",
     "output_type": "stream",
     "text": [
      "[2.71828183e+00 7.38905610e+00 2.00855369e+01 5.45981500e+01\n",
      " 1.48413159e+02 4.03428793e+02 1.09663316e+03 2.98095799e+03\n",
      " 8.10308393e+03]\n",
      "[0.         0.69314718 1.09861229 1.38629436 1.60943791 1.79175947\n",
      " 1.94591015 2.07944154 2.19722458]\n",
      "[0.         0.30103    0.47712125 0.60205999 0.69897    0.77815125\n",
      " 0.84509804 0.90308999 0.95424251]\n"
     ]
    }
   ],
   "source": [
    "x=np.arange(1,10)\n",
    "print(np.exp(x))\n",
    "print(np.log(x))\n",
    "print(np.log10(x))"
   ]
  },
  {
   "cell_type": "code",
   "execution_count": null,
   "metadata": {
    "colab": {
     "base_uri": "https://localhost:8080/",
     "height": 50
    },
    "colab_type": "code",
    "executionInfo": {
     "elapsed": 1453,
     "status": "ok",
     "timestamp": 1595747004650,
     "user": {
      "displayName": "Amit Singh",
      "photoUrl": "https://lh5.googleusercontent.com/-21tlpMHV94E/AAAAAAAAAAI/AAAAAAAAGgs/a-cO-Bg6i8s/s64/photo.jpg",
      "userId": "01480187702625975519"
     },
     "user_tz": -330
    },
    "id": "cxqfse3Y3yhW",
    "outputId": "20aab594-1ce4-44f2-d103-1cccf5b90b74"
   },
   "outputs": [
    {
     "name": "stdout",
     "output_type": "stream",
     "text": [
      "[ 0. 10. 20. 30. 40.]\n"
     ]
    },
    {
     "data": {
      "text/plain": [
       "array([ 1.,  2.,  4.,  8., 16.])"
      ]
     },
     "execution_count": 12,
     "metadata": {
      "tags": []
     },
     "output_type": "execute_result"
    }
   ],
   "source": [
    "x=np.arange(5)\n",
    "y=np.empty(5)\n",
    "print(np.multiply(x,10,out=y))\n",
    "y=np.zeros(10)\n",
    "np.power(2,x,out=y[::2])"
   ]
  },
  {
   "cell_type": "code",
   "execution_count": null,
   "metadata": {
    "colab": {
     "base_uri": "https://localhost:8080/",
     "height": 134
    },
    "colab_type": "code",
    "executionInfo": {
     "elapsed": 1915,
     "status": "ok",
     "timestamp": 1595747270802,
     "user": {
      "displayName": "Amit Singh",
      "photoUrl": "https://lh5.googleusercontent.com/-21tlpMHV94E/AAAAAAAAAAI/AAAAAAAAGgs/a-cO-Bg6i8s/s64/photo.jpg",
      "userId": "01480187702625975519"
     },
     "user_tz": -330
    },
    "id": "p-HiCAqG7VBg",
    "outputId": "0c599681-4187-4ad9-da21-404ebfe16618"
   },
   "outputs": [
    {
     "name": "stdout",
     "output_type": "stream",
     "text": [
      "15\n",
      "120\n"
     ]
    },
    {
     "data": {
      "text/plain": [
       "array([[ 1,  2,  3,  4,  5],\n",
       "       [ 2,  4,  6,  8, 10],\n",
       "       [ 3,  6,  9, 12, 15],\n",
       "       [ 4,  8, 12, 16, 20],\n",
       "       [ 5, 10, 15, 20, 25]])"
      ]
     },
     "execution_count": 17,
     "metadata": {
      "tags": []
     },
     "output_type": "execute_result"
    }
   ],
   "source": [
    "#Aggregate score\n",
    "print(np.add.reduce(x))\n",
    "x=np.array([1,2,3,4,5])\n",
    "print(np.multiply.reduce(x))\n",
    "#To store indermidiate result\n",
    "np.add.accumulate(x)\n",
    "#Outer products\n",
    "np.multiply.outer(x,x)"
   ]
  },
  {
   "cell_type": "markdown",
   "metadata": {
    "colab_type": "text",
    "id": "gcj2FSJv9Mlw"
   },
   "source": [
    "Aggerations Min,max and Everything in between.\n"
   ]
  },
  {
   "cell_type": "code",
   "execution_count": null,
   "metadata": {
    "colab": {
     "base_uri": "https://localhost:8080/",
     "height": 33
    },
    "colab_type": "code",
    "executionInfo": {
     "elapsed": 1458,
     "status": "ok",
     "timestamp": 1595748139547,
     "user": {
      "displayName": "Amit Singh",
      "photoUrl": "https://lh5.googleusercontent.com/-21tlpMHV94E/AAAAAAAAAAI/AAAAAAAAGgs/a-cO-Bg6i8s/s64/photo.jpg",
      "userId": "01480187702625975519"
     },
     "user_tz": -330
    },
    "id": "N7rsPrJS9WmG",
    "outputId": "5967d20f-524e-4988-8c8c-266f620ab27d"
   },
   "outputs": [
    {
     "data": {
      "text/plain": [
       "47.279383951251766"
      ]
     },
     "execution_count": 34,
     "metadata": {
      "tags": []
     },
     "output_type": "execute_result"
    }
   ],
   "source": [
    "np.random.seed(0)\n",
    "l=np.random.random(100)\n",
    "np.sum(l)\n",
    "sum(l)\n",
    "l.sum()\n",
    "#similary we can use it max,min"
   ]
  },
  {
   "cell_type": "code",
   "execution_count": null,
   "metadata": {
    "colab": {
     "base_uri": "https://localhost:8080/",
     "height": 50
    },
    "colab_type": "code",
    "executionInfo": {
     "elapsed": 1494,
     "status": "ok",
     "timestamp": 1595748298055,
     "user": {
      "displayName": "Amit Singh",
      "photoUrl": "https://lh5.googleusercontent.com/-21tlpMHV94E/AAAAAAAAAAI/AAAAAAAAGgs/a-cO-Bg6i8s/s64/photo.jpg",
      "userId": "01480187702625975519"
     },
     "user_tz": -330
    },
    "id": "MCdQAYFJAPW2",
    "outputId": "fa33a41f-d476-4011-c415-5fb737d31b0a"
   },
   "outputs": [
    {
     "name": "stdout",
     "output_type": "stream",
     "text": [
      "[ 3  4 27 20]\n",
      "[ 3 14 27]\n"
     ]
    }
   ],
   "source": [
    "m=np.random.randint(1,100,(3,4))\n",
    "print(m.min(axis=0)) # to know minmum value in every coloum\n",
    "print(m.min(axis=1)) # to know min value in every row"
   ]
  },
  {
   "cell_type": "markdown",
   "metadata": {
    "colab_type": "text",
    "id": "vTmps05RBxV6"
   },
   "source": [
    "aggeregation of nan function\n",
    "np.nansum(),np.nanprod(),np.nanmean()"
   ]
  },
  {
   "cell_type": "markdown",
   "metadata": {
    "colab_type": "text",
    "id": "c3ZMaOT9CIgT"
   },
   "source": [
    "Computation of array Brodcasting"
   ]
  },
  {
   "cell_type": "code",
   "execution_count": null,
   "metadata": {
    "colab": {
     "base_uri": "https://localhost:8080/",
     "height": 33
    },
    "colab_type": "code",
    "executionInfo": {
     "elapsed": 1873,
     "status": "ok",
     "timestamp": 1595749851947,
     "user": {
      "displayName": "Amit Singh",
      "photoUrl": "https://lh5.googleusercontent.com/-21tlpMHV94E/AAAAAAAAAAI/AAAAAAAAGgs/a-cO-Bg6i8s/s64/photo.jpg",
      "userId": "01480187702625975519"
     },
     "user_tz": -330
    },
    "id": "P0PGa2TDA61j",
    "outputId": "55bd14bd-b70d-4350-f47f-18ff6d93809d"
   },
   "outputs": [
    {
     "data": {
      "text/plain": [
       "array([5, 7, 9])"
      ]
     },
     "execution_count": 42,
     "metadata": {
      "tags": []
     },
     "output_type": "execute_result"
    }
   ],
   "source": [
    "a=np.array([1,2,3])\n",
    "b=np.array([4,5,6])\n",
    "a+b"
   ]
  },
  {
   "cell_type": "code",
   "execution_count": null,
   "metadata": {
    "colab": {
     "base_uri": "https://localhost:8080/",
     "height": 84
    },
    "colab_type": "code",
    "executionInfo": {
     "elapsed": 1313,
     "status": "ok",
     "timestamp": 1595750671847,
     "user": {
      "displayName": "Amit Singh",
      "photoUrl": "https://lh5.googleusercontent.com/-21tlpMHV94E/AAAAAAAAAAI/AAAAAAAAGgs/a-cO-Bg6i8s/s64/photo.jpg",
      "userId": "01480187702625975519"
     },
     "user_tz": -330
    },
    "id": "bP09gcDbGqTx",
    "outputId": "742956cd-32f3-4605-a066-39f4b3db0a2a"
   },
   "outputs": [
    {
     "data": {
      "text/plain": [
       "array([[1, 5],\n",
       "       [2, 6],\n",
       "       [3, 7],\n",
       "       [4, 8]])"
      ]
     },
     "execution_count": 58,
     "metadata": {
      "tags": []
     },
     "output_type": "execute_result"
    }
   ],
   "source": [
    "\n",
    "b=np.arange(1,9).reshape(2,4).transpose()\n",
    "b\n"
   ]
  },
  {
   "cell_type": "code",
   "execution_count": null,
   "metadata": {
    "colab": {
     "base_uri": "https://localhost:8080/",
     "height": 67
    },
    "colab_type": "code",
    "executionInfo": {
     "elapsed": 1757,
     "status": "ok",
     "timestamp": 1595751075519,
     "user": {
      "displayName": "Amit Singh",
      "photoUrl": "https://lh5.googleusercontent.com/-21tlpMHV94E/AAAAAAAAAAI/AAAAAAAAGgs/a-cO-Bg6i8s/s64/photo.jpg",
      "userId": "01480187702625975519"
     },
     "user_tz": -330
    },
    "id": "y3Wn7C9OJz7d",
    "outputId": "745640a3-1c05-4e2f-a2b3-283ed06641c2"
   },
   "outputs": [
    {
     "data": {
      "text/plain": [
       "array([[1., 2., 3.],\n",
       "       [1., 2., 3.],\n",
       "       [1., 2., 3.]])"
      ]
     },
     "execution_count": 65,
     "metadata": {
      "tags": []
     },
     "output_type": "execute_result"
    }
   ],
   "source": [
    "np.ones((3,3))+ np.arange(3)"
   ]
  },
  {
   "cell_type": "code",
   "execution_count": null,
   "metadata": {
    "colab": {
     "base_uri": "https://localhost:8080/",
     "height": 50
    },
    "colab_type": "code",
    "executionInfo": {
     "elapsed": 1432,
     "status": "ok",
     "timestamp": 1595751777148,
     "user": {
      "displayName": "Amit Singh",
      "photoUrl": "https://lh5.googleusercontent.com/-21tlpMHV94E/AAAAAAAAAAI/AAAAAAAAGgs/a-cO-Bg6i8s/s64/photo.jpg",
      "userId": "01480187702625975519"
     },
     "user_tz": -330
    },
    "id": "ZEARDbHWLTyk",
    "outputId": "d77fa992-dcee-4992-df67-48b2777827c4"
   },
   "outputs": [
    {
     "data": {
      "text/plain": [
       "array([[1., 2., 3.],\n",
       "       [1., 2., 3.]])"
      ]
     },
     "execution_count": 67,
     "metadata": {
      "tags": []
     },
     "output_type": "execute_result"
    }
   ],
   "source": [
    "#Example 1\n",
    "M=np.ones((2,3))\n",
    "a=np.arange(3)\n",
    "M+a"
   ]
  },
  {
   "cell_type": "code",
   "execution_count": null,
   "metadata": {
    "colab": {
     "base_uri": "https://localhost:8080/",
     "height": 67
    },
    "colab_type": "code",
    "executionInfo": {
     "elapsed": 1465,
     "status": "ok",
     "timestamp": 1595751949920,
     "user": {
      "displayName": "Amit Singh",
      "photoUrl": "https://lh5.googleusercontent.com/-21tlpMHV94E/AAAAAAAAAAI/AAAAAAAAGgs/a-cO-Bg6i8s/s64/photo.jpg",
      "userId": "01480187702625975519"
     },
     "user_tz": -330
    },
    "id": "agb_JBrfN89l",
    "outputId": "bbaf6057-a484-42fa-b140-f5b6904c443b"
   },
   "outputs": [
    {
     "data": {
      "text/plain": [
       "array([[1., 1.],\n",
       "       [2., 2.],\n",
       "       [3., 3.]])"
      ]
     },
     "execution_count": 69,
     "metadata": {
      "tags": []
     },
     "output_type": "execute_result"
    }
   ],
   "source": [
    "#Example 2\n",
    "M=np.ones((3,2))\n",
    "a=np.arange(3)[:,np.newaxis]\n",
    "M+a"
   ]
  },
  {
   "cell_type": "markdown",
   "metadata": {
    "colab_type": "text",
    "id": "YXCnPXKunPNk"
   },
   "source": [
    "Broadcasting in practice"
   ]
  },
  {
   "cell_type": "code",
   "execution_count": null,
   "metadata": {
    "colab": {
     "base_uri": "https://localhost:8080/",
     "height": 33
    },
    "colab_type": "code",
    "executionInfo": {
     "elapsed": 1384,
     "status": "ok",
     "timestamp": 1595775512655,
     "user": {
      "displayName": "Amit Singh",
      "photoUrl": "https://lh5.googleusercontent.com/-21tlpMHV94E/AAAAAAAAAAI/AAAAAAAAGgs/a-cO-Bg6i8s/s64/photo.jpg",
      "userId": "01480187702625975519"
     },
     "user_tz": -330
    },
    "id": "wa00JoPLLZOr",
    "outputId": "21989153-5ff0-4e24-d255-d8fe48d70a75"
   },
   "outputs": [
    {
     "data": {
      "text/plain": [
       "array([ 1.22124533e-16, -3.33066907e-17, -2.22044605e-17])"
      ]
     },
     "execution_count": 11,
     "metadata": {
      "tags": []
     },
     "output_type": "execute_result"
    }
   ],
   "source": [
    "#centring on array\n",
    "x=np.random.random((10,3))\n",
    "xmean=x.mean(0) #mean near zero value\n",
    "xmean\n",
    "x_centred=x-xmean\n",
    "x_centred.mean(0) #mean near zero value"
   ]
  },
  {
   "cell_type": "code",
   "execution_count": null,
   "metadata": {
    "colab": {
     "base_uri": "https://localhost:8080/",
     "height": 234
    },
    "colab_type": "code",
    "executionInfo": {
     "elapsed": 799,
     "status": "ok",
     "timestamp": 1595775725563,
     "user": {
      "displayName": "Amit Singh",
      "photoUrl": "https://lh5.googleusercontent.com/-21tlpMHV94E/AAAAAAAAAAI/AAAAAAAAGgs/a-cO-Bg6i8s/s64/photo.jpg",
      "userId": "01480187702625975519"
     },
     "user_tz": -330
    },
    "id": "yhnxVdjsoOel",
    "outputId": "90634499-1096-4ae9-8bf7-9fd213603a8a"
   },
   "outputs": [
    {
     "data": {
      "text/plain": [
       "array([[-0.83907153, -0.83470697, -0.8216586 , ...,  0.8956708 ,\n",
       "         0.68617261,  0.41940746],\n",
       "       [-0.83907153, -0.82902677, -0.8103873 , ...,  0.92522407,\n",
       "         0.75321348,  0.52508175],\n",
       "       [-0.83907153, -0.82325668, -0.79876457, ...,  0.96427357,\n",
       "         0.84172689,  0.66446403],\n",
       "       ...,\n",
       "       [-0.83907153, -0.48233077, -0.01646558, ...,  0.96449925,\n",
       "         0.75196531,  0.41982581],\n",
       "       [-0.83907153, -0.47324558,  0.00392612, ...,  0.92542163,\n",
       "         0.68540362,  0.37440839],\n",
       "       [-0.83907153, -0.46410908,  0.02431613, ...,  0.89579384,\n",
       "         0.65690314,  0.40107702]])"
      ]
     },
     "execution_count": 13,
     "metadata": {
      "tags": []
     },
     "output_type": "execute_result"
    }
   ],
   "source": [
    "#Plotting a two dimensional functions\n",
    "x=np.linspace(0,5,50)\n",
    "y=np.linspace(0,5,50)[:,np.newaxis]\n",
    "z=np.sin(x)**10+np.cos(10+y*x)*np.cos(x)\n",
    "z"
   ]
  },
  {
   "cell_type": "markdown",
   "metadata": {
    "colab_type": "text",
    "id": "T339L4m8p6-1"
   },
   "source": [
    "Comparision Operators as Ufuncs ( np.equal,np.not_equal,np.less,np.less_equal,np.greater,np.greater_equal)"
   ]
  },
  {
   "cell_type": "code",
   "execution_count": null,
   "metadata": {
    "colab": {
     "base_uri": "https://localhost:8080/",
     "height": 33
    },
    "colab_type": "code",
    "executionInfo": {
     "elapsed": 1574,
     "status": "ok",
     "timestamp": 1595776104749,
     "user": {
      "displayName": "Amit Singh",
      "photoUrl": "https://lh5.googleusercontent.com/-21tlpMHV94E/AAAAAAAAAAI/AAAAAAAAGgs/a-cO-Bg6i8s/s64/photo.jpg",
      "userId": "01480187702625975519"
     },
     "user_tz": -330
    },
    "id": "zOnbWZO0oO82",
    "outputId": "a9d7ad06-da90-4df9-e029-8bab7f4ce4eb"
   },
   "outputs": [
    {
     "data": {
      "text/plain": [
       "array([ True,  True, False, False, False])"
      ]
     },
     "execution_count": 16,
     "metadata": {
      "tags": []
     },
     "output_type": "execute_result"
    }
   ],
   "source": [
    "x=np.array([1,2,3,4,5])\n",
    "x<3  # or np.less(x,3)"
   ]
  },
  {
   "cell_type": "code",
   "execution_count": null,
   "metadata": {
    "colab": {
     "base_uri": "https://localhost:8080/",
     "height": 67
    },
    "colab_type": "code",
    "executionInfo": {
     "elapsed": 1985,
     "status": "ok",
     "timestamp": 1595776352257,
     "user": {
      "displayName": "Amit Singh",
      "photoUrl": "https://lh5.googleusercontent.com/-21tlpMHV94E/AAAAAAAAAAI/AAAAAAAAGgs/a-cO-Bg6i8s/s64/photo.jpg",
      "userId": "01480187702625975519"
     },
     "user_tz": -330
    },
    "id": "JV48Av61oPCE",
    "outputId": "9b0d2cb2-fa78-4b9a-d627-0ace99427637"
   },
   "outputs": [
    {
     "data": {
      "text/plain": [
       "array([[5, 0, 3, 3],\n",
       "       [7, 9, 3, 5],\n",
       "       [2, 4, 7, 6]])"
      ]
     },
     "execution_count": 22,
     "metadata": {
      "tags": []
     },
     "output_type": "execute_result"
    }
   ],
   "source": [
    "#Two 2d array\n",
    "rng=np.random.RandomState(0)\n",
    "x=rng.randint(10,size=(3,4))\n",
    "x"
   ]
  },
  {
   "cell_type": "code",
   "execution_count": null,
   "metadata": {
    "colab": {
     "base_uri": "https://localhost:8080/",
     "height": 33
    },
    "colab_type": "code",
    "executionInfo": {
     "elapsed": 1386,
     "status": "ok",
     "timestamp": 1595776304274,
     "user": {
      "displayName": "Amit Singh",
      "photoUrl": "https://lh5.googleusercontent.com/-21tlpMHV94E/AAAAAAAAAAI/AAAAAAAAGgs/a-cO-Bg6i8s/s64/photo.jpg",
      "userId": "01480187702625975519"
     },
     "user_tz": -330
    },
    "id": "vBlLtN-roO4k",
    "outputId": "e610b157-4e70-4229-bc90-c7461a2a54de"
   },
   "outputs": [
    {
     "data": {
      "text/plain": [
       "8"
      ]
     },
     "execution_count": 20,
     "metadata": {
      "tags": []
     },
     "output_type": "execute_result"
    }
   ],
   "source": [
    "#working with boolean \n",
    "np.count_nonzero(x<6)\n",
    "np.sum(x<6)"
   ]
  },
  {
   "cell_type": "code",
   "execution_count": null,
   "metadata": {
    "colab": {
     "base_uri": "https://localhost:8080/",
     "height": 33
    },
    "colab_type": "code",
    "executionInfo": {
     "elapsed": 1634,
     "status": "ok",
     "timestamp": 1595776332314,
     "user": {
      "displayName": "Amit Singh",
      "photoUrl": "https://lh5.googleusercontent.com/-21tlpMHV94E/AAAAAAAAAAI/AAAAAAAAGgs/a-cO-Bg6i8s/s64/photo.jpg",
      "userId": "01480187702625975519"
     },
     "user_tz": -330
    },
    "id": "CLatiNLgoO0Y",
    "outputId": "517823a4-242c-47f8-9b1d-09235528466b"
   },
   "outputs": [
    {
     "data": {
      "text/plain": [
       "array([4, 2, 2])"
      ]
     },
     "execution_count": 21,
     "metadata": {
      "tags": []
     },
     "output_type": "execute_result"
    }
   ],
   "source": [
    "np.sum(x<6,axis=1)"
   ]
  },
  {
   "cell_type": "code",
   "execution_count": null,
   "metadata": {
    "colab": {
     "base_uri": "https://localhost:8080/",
     "height": 33
    },
    "colab_type": "code",
    "executionInfo": {
     "elapsed": 2641,
     "status": "ok",
     "timestamp": 1595778229858,
     "user": {
      "displayName": "Amit Singh",
      "photoUrl": "https://lh5.googleusercontent.com/-21tlpMHV94E/AAAAAAAAAAI/AAAAAAAAGgs/a-cO-Bg6i8s/s64/photo.jpg",
      "userId": "01480187702625975519"
     },
     "user_tz": -330
    },
    "id": "3fUYsl1Xyng2",
    "outputId": "fed147d2-2f45-47f4-c8fa-f91aec5f3973"
   },
   "outputs": [
    {
     "data": {
      "text/plain": [
       "True"
      ]
     },
     "execution_count": 23,
     "metadata": {
      "tags": []
     },
     "output_type": "execute_result"
    }
   ],
   "source": [
    "#are there any value greater than 8\n",
    "np.any(x>8)"
   ]
  },
  {
   "cell_type": "code",
   "execution_count": null,
   "metadata": {
    "colab": {
     "base_uri": "https://localhost:8080/",
     "height": 33
    },
    "colab_type": "code",
    "executionInfo": {
     "elapsed": 1766,
     "status": "ok",
     "timestamp": 1595778306790,
     "user": {
      "displayName": "Amit Singh",
      "photoUrl": "https://lh5.googleusercontent.com/-21tlpMHV94E/AAAAAAAAAAI/AAAAAAAAGgs/a-cO-Bg6i8s/s64/photo.jpg",
      "userId": "01480187702625975519"
     },
     "user_tz": -330
    },
    "id": "E5J0T55jynkq",
    "outputId": "23c4723d-6990-4250-fe59-c552b821ab9a"
   },
   "outputs": [
    {
     "data": {
      "text/plain": [
       "array([ True, False,  True])"
      ]
     },
     "execution_count": 25,
     "metadata": {
      "tags": []
     },
     "output_type": "execute_result"
    }
   ],
   "source": [
    "# all value are less than 8\n",
    "np.all(x<8,axis=1)"
   ]
  },
  {
   "cell_type": "markdown",
   "metadata": {
    "colab_type": "text",
    "id": "2pMgty1mzeZ1"
   },
   "source": [
    "Boolean operators"
   ]
  },
  {
   "cell_type": "code",
   "execution_count": null,
   "metadata": {
    "colab": {
     "base_uri": "https://localhost:8080/",
     "height": 33
    },
    "colab_type": "code",
    "executionInfo": {
     "elapsed": 2336,
     "status": "ok",
     "timestamp": 1595778533276,
     "user": {
      "displayName": "Amit Singh",
      "photoUrl": "https://lh5.googleusercontent.com/-21tlpMHV94E/AAAAAAAAAAI/AAAAAAAAGgs/a-cO-Bg6i8s/s64/photo.jpg",
      "userId": "01480187702625975519"
     },
     "user_tz": -330
    },
    "id": "MGJTn-Zmynpn",
    "outputId": "075951c8-ef67-4301-e03a-df16635e0a2c"
   },
   "outputs": [
    {
     "data": {
      "text/plain": [
       "3"
      ]
     },
     "execution_count": 28,
     "metadata": {
      "tags": []
     },
     "output_type": "execute_result"
    }
   ],
   "source": [
    "#Bitwise logic operators we can also use np.bitwise_and ,np.bitwise_or,np.bitwise_xor ,np.bitwise_not\n",
    "np.sum((x>5) & (x<8)) #If we use and , or then it give value error "
   ]
  },
  {
   "cell_type": "code",
   "execution_count": null,
   "metadata": {
    "colab": {
     "base_uri": "https://localhost:8080/",
     "height": 33
    },
    "colab_type": "code",
    "executionInfo": {
     "elapsed": 1494,
     "status": "ok",
     "timestamp": 1595779047596,
     "user": {
      "displayName": "Amit Singh",
      "photoUrl": "https://lh5.googleusercontent.com/-21tlpMHV94E/AAAAAAAAAAI/AAAAAAAAGgs/a-cO-Bg6i8s/s64/photo.jpg",
      "userId": "01480187702625975519"
     },
     "user_tz": -330
    },
    "id": "KP67d0P0ynsH",
    "outputId": "5a8eb5ff-c5fb-4f5a-872f-7eeda38ce399"
   },
   "outputs": [
    {
     "data": {
      "text/plain": [
       "array([ True,  True,  True, False, False,  True,  True])"
      ]
     },
     "execution_count": 29,
     "metadata": {
      "tags": []
     },
     "output_type": "execute_result"
    }
   ],
   "source": [
    "A=np.array([1,0,1,0,0,1,1],dtype=bool)\n",
    "B=np.array([1,1,1,0,0,1,1],dtype=bool)\n",
    "A|B # if we use or then it will give valueError"
   ]
  },
  {
   "cell_type": "markdown",
   "metadata": {
    "colab_type": "text",
    "id": "Nk5hWInM2ZUZ"
   },
   "source": [
    "Fancy Indexing (for fast result)"
   ]
  },
  {
   "cell_type": "code",
   "execution_count": null,
   "metadata": {
    "colab": {
     "base_uri": "https://localhost:8080/",
     "height": 33
    },
    "colab_type": "code",
    "executionInfo": {
     "elapsed": 2512,
     "status": "ok",
     "timestamp": 1595779446446,
     "user": {
      "displayName": "Amit Singh",
      "photoUrl": "https://lh5.googleusercontent.com/-21tlpMHV94E/AAAAAAAAAAI/AAAAAAAAGgs/a-cO-Bg6i8s/s64/photo.jpg",
      "userId": "01480187702625975519"
     },
     "user_tz": -330
    },
    "id": "Y8O3jseLynvZ",
    "outputId": "82214ce7-dee8-4f89-cfb2-de5b098d55b3"
   },
   "outputs": [
    {
     "data": {
      "text/plain": [
       "array([67, 67,  9])"
      ]
     },
     "execution_count": 30,
     "metadata": {
      "tags": []
     },
     "output_type": "execute_result"
    }
   ],
   "source": [
    "rand=np.random.RandomState(0)\n",
    "x=rand.randint(100,size=10)\n",
    "ind=[3,4,5]\n",
    "x[ind]"
   ]
  },
  {
   "cell_type": "code",
   "execution_count": 5,
   "metadata": {
    "colab": {
     "base_uri": "https://localhost:8080/",
     "height": 84
    },
    "colab_type": "code",
    "executionInfo": {
     "elapsed": 1948,
     "status": "ok",
     "timestamp": 1595833616902,
     "user": {
      "displayName": "Amit Singh",
      "photoUrl": "https://lh5.googleusercontent.com/-21tlpMHV94E/AAAAAAAAAAI/AAAAAAAAGgs/a-cO-Bg6i8s/s64/photo.jpg",
      "userId": "01480187702625975519"
     },
     "user_tz": -330
    },
    "id": "fk-v2ZgdynzM",
    "outputId": "b0c3b7c7-a335-45e5-8441-aba4900e12e4"
   },
   "outputs": [
    {
     "name": "stdout",
     "output_type": "stream",
     "text": [
      "[ 2  5 11]\n",
      "[[ 0  1  2  3]\n",
      " [ 4  5  6  7]\n",
      " [ 8  9 10 11]]\n"
     ]
    }
   ],
   "source": [
    "x=np.arange(12).reshape((3,4))\n",
    "row=np.array([0,1,2]) # It simply maps the row and column data\n",
    "col=np.array([2,1,3]) # It simply maps the row and column data\n",
    "print(x[row,col])\n",
    "print(x)\n"
   ]
  },
  {
   "cell_type": "code",
   "execution_count": 7,
   "metadata": {
    "colab": {
     "base_uri": "https://localhost:8080/",
     "height": 67
    },
    "colab_type": "code",
    "executionInfo": {
     "elapsed": 1355,
     "status": "ok",
     "timestamp": 1595833763945,
     "user": {
      "displayName": "Amit Singh",
      "photoUrl": "https://lh5.googleusercontent.com/-21tlpMHV94E/AAAAAAAAAAI/AAAAAAAAGgs/a-cO-Bg6i8s/s64/photo.jpg",
      "userId": "01480187702625975519"
     },
     "user_tz": -330
    },
    "id": "RdTa0dOmyn2t",
    "outputId": "da1dbeee-f700-4cd3-fda2-647964c52515"
   },
   "outputs": [
    {
     "data": {
      "text/plain": [
       "array([[ 2,  1,  3],\n",
       "       [ 6,  5,  7],\n",
       "       [10,  9, 11]])"
      ]
     },
     "execution_count": 7,
     "metadata": {
      "tags": []
     },
     "output_type": "execute_result"
    }
   ],
   "source": [
    "x[row[:,np.newaxis],col]"
   ]
  },
  {
   "cell_type": "code",
   "execution_count": 8,
   "metadata": {
    "colab": {
     "base_uri": "https://localhost:8080/",
     "height": 33
    },
    "colab_type": "code",
    "executionInfo": {
     "elapsed": 1688,
     "status": "ok",
     "timestamp": 1595833911561,
     "user": {
      "displayName": "Amit Singh",
      "photoUrl": "https://lh5.googleusercontent.com/-21tlpMHV94E/AAAAAAAAAAI/AAAAAAAAGgs/a-cO-Bg6i8s/s64/photo.jpg",
      "userId": "01480187702625975519"
     },
     "user_tz": -330
    },
    "id": "NRgF8ay0yn6I",
    "outputId": "6cafe3f7-eeee-41df-fd0f-aba79a674097"
   },
   "outputs": [
    {
     "data": {
      "text/plain": [
       "array([10,  8,  9])"
      ]
     },
     "execution_count": 8,
     "metadata": {
      "tags": []
     },
     "output_type": "execute_result"
    }
   ],
   "source": [
    "# Combined indexes\n",
    "x[2,[2,0,1]]"
   ]
  },
  {
   "cell_type": "code",
   "execution_count": 9,
   "metadata": {
    "colab": {
     "base_uri": "https://localhost:8080/",
     "height": 67
    },
    "colab_type": "code",
    "executionInfo": {
     "elapsed": 1635,
     "status": "ok",
     "timestamp": 1595833946826,
     "user": {
      "displayName": "Amit Singh",
      "photoUrl": "https://lh5.googleusercontent.com/-21tlpMHV94E/AAAAAAAAAAI/AAAAAAAAGgs/a-cO-Bg6i8s/s64/photo.jpg",
      "userId": "01480187702625975519"
     },
     "user_tz": -330
    },
    "id": "_p9pXQbTHSxt",
    "outputId": "d58dd8c7-c070-4a08-eda7-70e32381f5bb"
   },
   "outputs": [
    {
     "data": {
      "text/plain": [
       "array([[ 0,  2,  1],\n",
       "       [ 4,  6,  5],\n",
       "       [ 8, 10,  9]])"
      ]
     },
     "execution_count": 9,
     "metadata": {
      "tags": []
     },
     "output_type": "execute_result"
    }
   ],
   "source": [
    "x[0:,[0,2,1]]"
   ]
  },
  {
   "cell_type": "code",
   "execution_count": 16,
   "metadata": {
    "colab": {
     "base_uri": "https://localhost:8080/",
     "height": 1000
    },
    "colab_type": "code",
    "executionInfo": {
     "elapsed": 2092,
     "status": "ok",
     "timestamp": 1595834572078,
     "user": {
      "displayName": "Amit Singh",
      "photoUrl": "https://lh5.googleusercontent.com/-21tlpMHV94E/AAAAAAAAAAI/AAAAAAAAGgs/a-cO-Bg6i8s/s64/photo.jpg",
      "userId": "01480187702625975519"
     },
     "user_tz": -330
    },
    "id": "RADuemOzHeX2",
    "outputId": "f22a559a-de81-4e55-a9bf-1a7b50452383"
   },
   "outputs": [
    {
     "data": {
      "text/plain": [
       "array([[ 1.09854270e-01, -7.18121548e-01],\n",
       "       [ 5.54394610e-01,  7.59438515e-01],\n",
       "       [-6.34704324e-01, -1.97935057e+00],\n",
       "       [-1.22953618e+00, -7.92538945e-01],\n",
       "       [-9.98651684e-01, -2.88636118e+00],\n",
       "       [ 1.45823588e-01,  8.44883733e-01],\n",
       "       [ 1.87154916e+00,  3.58520474e+00],\n",
       "       [-4.07817567e-01, -1.11911455e+00],\n",
       "       [-1.55116505e+00, -4.41424121e+00],\n",
       "       [ 1.30759503e+00,  2.19389851e+00],\n",
       "       [ 4.85750914e-02, -5.68101535e-02],\n",
       "       [-1.90784866e+00, -5.03795384e+00],\n",
       "       [-3.88661950e-01,  1.87185505e-02],\n",
       "       [-1.12860557e-01,  3.28915178e-01],\n",
       "       [-6.85230650e-01, -7.48108942e-01],\n",
       "       [ 9.91559239e-01,  3.26824567e+00],\n",
       "       [ 5.61272855e-02,  3.38103895e-01],\n",
       "       [-2.77664925e-01,  1.12539898e+00],\n",
       "       [ 1.35574984e+00,  4.78767945e+00],\n",
       "       [ 4.22035024e-02,  1.75684985e+00],\n",
       "       [-1.51667572e+00, -2.56296345e+00],\n",
       "       [-1.63236501e+00, -1.48786020e+00],\n",
       "       [ 7.72109588e-01,  1.23487583e+00],\n",
       "       [ 2.51928039e-01,  1.60958199e+00],\n",
       "       [ 8.13311768e-01,  3.05798743e+00],\n",
       "       [ 6.75080082e-01,  4.74103195e-01],\n",
       "       [ 1.30048553e+00,  2.27722810e+00],\n",
       "       [ 1.17617577e+00,  3.39602845e+00],\n",
       "       [-1.15382059e+00, -1.74790866e+00],\n",
       "       [ 4.60955693e-01,  1.44614761e+00],\n",
       "       [-2.69447230e-01,  9.80055866e-02],\n",
       "       [-4.45547525e-01, -9.77929016e-01],\n",
       "       [ 1.78063239e+00,  4.11852193e+00],\n",
       "       [ 1.63441469e-01, -3.57433879e-01],\n",
       "       [ 7.45877736e-01,  3.94436977e-01],\n",
       "       [ 1.03075164e-01,  7.96393839e-01],\n",
       "       [-1.54249233e+00, -4.82005449e+00],\n",
       "       [ 3.90087429e-01, -9.89322389e-02],\n",
       "       [ 1.71138568e-01,  1.70999193e-01],\n",
       "       [-1.14227145e+00, -1.70330778e+00],\n",
       "       [-1.06610164e-01, -3.81304974e-01],\n",
       "       [-1.16495719e+00, -2.61785036e+00],\n",
       "       [-7.75692391e-01, -3.64135060e+00],\n",
       "       [-1.40993229e+00, -4.07250129e+00],\n",
       "       [ 1.02082843e+00,  2.41605718e+00],\n",
       "       [ 8.57397129e-01,  2.68575545e+00],\n",
       "       [ 3.17461151e-01,  1.07744994e+00],\n",
       "       [ 9.88065902e-01,  2.14463883e+00],\n",
       "       [-1.74617072e-02, -2.46062040e-01],\n",
       "       [-1.69462876e+00, -3.45711866e+00],\n",
       "       [ 5.22288188e-01, -7.48568299e-01],\n",
       "       [-8.22451917e-01, -6.47585936e-01],\n",
       "       [ 7.13357882e-01,  1.50750070e+00],\n",
       "       [ 3.27209966e+00,  6.55129126e+00],\n",
       "       [ 1.88555578e+00,  4.66483480e+00],\n",
       "       [ 1.79291873e-01,  3.18313914e-01],\n",
       "       [ 1.36864021e-02,  1.13614710e+00],\n",
       "       [ 1.16732790e+00,  2.73794703e+00],\n",
       "       [-4.82341198e-01, -1.35864777e+00],\n",
       "       [ 3.99628009e-01,  7.17276046e-02],\n",
       "       [ 3.45704765e-02,  8.60997824e-01],\n",
       "       [ 1.92621488e+00,  4.47924467e+00],\n",
       "       [ 5.66649531e-01,  1.29191378e+00],\n",
       "       [-1.46728822e+00, -4.02577517e+00],\n",
       "       [-1.79707261e+00, -3.14755148e+00],\n",
       "       [-6.09545470e-02, -5.28746436e-02],\n",
       "       [ 1.48340322e-01, -5.35034300e-01],\n",
       "       [-3.44654192e-01, -1.49524819e+00],\n",
       "       [ 8.07336897e-01, -4.27809116e-01],\n",
       "       [ 5.92795547e-01,  2.01032243e+00],\n",
       "       [ 9.10141836e-01,  2.55875798e+00],\n",
       "       [ 8.97057698e-02,  1.28829971e+00],\n",
       "       [-1.23016280e+00, -2.77761589e+00],\n",
       "       [-1.73852926e-03,  3.95705538e-02],\n",
       "       [-4.36214848e-01,  2.36723990e-01],\n",
       "       [-1.80389973e+00, -5.79832712e+00],\n",
       "       [ 4.28337613e-01,  2.50958269e+00],\n",
       "       [ 1.58037553e+00,  2.33029438e+00],\n",
       "       [-1.84938792e+00, -4.76169039e+00],\n",
       "       [ 4.25825201e-01,  4.77278919e-01],\n",
       "       [-1.03470173e-01, -1.47625778e+00],\n",
       "       [-1.92750024e+00, -3.83830575e+00],\n",
       "       [ 2.58985766e-01,  2.80851119e-02],\n",
       "       [-4.99526261e-01, -7.59784652e-02],\n",
       "       [-2.99558233e+00, -5.59889637e+00],\n",
       "       [-9.52272768e-01, -2.25239746e+00],\n",
       "       [-1.00612009e+00, -2.80394117e+00],\n",
       "       [-7.54626201e-01, -5.54676668e-01],\n",
       "       [-3.06218799e-01, -1.45873609e+00],\n",
       "       [ 1.22418397e+00,  3.49825755e+00],\n",
       "       [-4.80279528e-01, -1.52883677e-01],\n",
       "       [ 9.17774789e-02, -1.89287930e-01],\n",
       "       [-1.35499831e+00, -2.19285351e+00],\n",
       "       [ 2.52998100e+00,  4.46363557e+00],\n",
       "       [-9.49861020e-02, -2.99929695e-01],\n",
       "       [-1.42553656e-01,  5.47663140e-01],\n",
       "       [-1.46735962e+00, -4.65895091e+00],\n",
       "       [ 7.20913935e-02,  1.46571219e-01],\n",
       "       [ 2.78600471e-01, -6.51857064e-01],\n",
       "       [-4.45893768e-01, -1.03675789e+00]])"
      ]
     },
     "execution_count": 16,
     "metadata": {
      "tags": []
     },
     "output_type": "execute_result"
    }
   ],
   "source": [
    "mean=[0,0]\n",
    "cov=[[1,2],\n",
    "     [2,5]]\n",
    "rand=np.random.RandomState(43)\n",
    "x=rand.multivariate_normal(mean,cov,100)\n",
    "x.shape\n",
    "x"
   ]
  },
  {
   "cell_type": "code",
   "execution_count": 21,
   "metadata": {
    "colab": {
     "base_uri": "https://localhost:8080/",
     "height": 50
    },
    "colab_type": "code",
    "executionInfo": {
     "elapsed": 2543,
     "status": "ok",
     "timestamp": 1595834743486,
     "user": {
      "displayName": "Amit Singh",
      "photoUrl": "https://lh5.googleusercontent.com/-21tlpMHV94E/AAAAAAAAAAI/AAAAAAAAGgs/a-cO-Bg6i8s/s64/photo.jpg",
      "userId": "01480187702625975519"
     },
     "user_tz": -330
    },
    "id": "8LSflR6fHetZ",
    "outputId": "b37f792d-0098-46a3-aa21-90b0bbd213cd"
   },
   "outputs": [
    {
     "data": {
      "text/plain": [
       "array([ 8,  5, 11, 12, 17, 10, 18, 15, 16, 19,  0,  6, 20,  2, 14, 13,  4,\n",
       "        3,  1,  9])"
      ]
     },
     "execution_count": 21,
     "metadata": {
      "tags": []
     },
     "output_type": "execute_result"
    }
   ],
   "source": [
    "# Select random 20 number \n",
    "y=np.arange(21)\n",
    "indices = np.random.choice(y,20,replace=False)\n",
    "indices\n",
    "selection=y[indices]\n",
    "selection"
   ]
  },
  {
   "cell_type": "code",
   "execution_count": 51,
   "metadata": {
    "colab": {
     "base_uri": "https://localhost:8080/",
     "height": 84
    },
    "colab_type": "code",
    "executionInfo": {
     "elapsed": 4786,
     "status": "ok",
     "timestamp": 1595836518645,
     "user": {
      "displayName": "Amit Singh",
      "photoUrl": "https://lh5.googleusercontent.com/-21tlpMHV94E/AAAAAAAAAAI/AAAAAAAAGgs/a-cO-Bg6i8s/s64/photo.jpg",
      "userId": "01480187702625975519"
     },
     "user_tz": -330
    },
    "id": "ObSo99mmHeqM",
    "outputId": "a95d2a9c-5ebb-45ab-e2eb-30cba0bbabce"
   },
   "outputs": [
    {
     "name": "stdout",
     "output_type": "stream",
     "text": [
      "The slowest run took 21.53 times longer than the fastest. This could mean that an intermediate result is being cached.\n",
      "100000 loops, best of 3: 2.37 µs per loop\n",
      "The slowest run took 63.23 times longer than the fastest. This could mean that an intermediate result is being cached.\n",
      "1000000 loops, best of 3: 269 ns per loop\n"
     ]
    }
   ],
   "source": [
    "#Sorting Of array\n",
    "x=np.array([(2,1,4,3,5)])\n",
    "%timeit np.sort(x)\n",
    "%timeit x.sort()\n"
   ]
  },
  {
   "cell_type": "code",
   "execution_count": 57,
   "metadata": {
    "colab": {
     "base_uri": "https://localhost:8080/",
     "height": 33
    },
    "colab_type": "code",
    "executionInfo": {
     "elapsed": 2607,
     "status": "ok",
     "timestamp": 1595836716511,
     "user": {
      "displayName": "Amit Singh",
      "photoUrl": "https://lh5.googleusercontent.com/-21tlpMHV94E/AAAAAAAAAAI/AAAAAAAAGgs/a-cO-Bg6i8s/s64/photo.jpg",
      "userId": "01480187702625975519"
     },
     "user_tz": -330
    },
    "id": "ZLVz32TcHeni",
    "outputId": "896d5b53-d5b7-4004-bd7e-dc6b655e3933"
   },
   "outputs": [
    {
     "data": {
      "text/plain": [
       "array([[1, 0, 3, 2, 4]])"
      ]
     },
     "execution_count": 57,
     "metadata": {
      "tags": []
     },
     "output_type": "execute_result"
    }
   ],
   "source": [
    "x=np.array([(2,1,4,3,5)])\n",
    "i=np.argsort(x) # it reurn index of sorted one array\n",
    "i\n"
   ]
  },
  {
   "cell_type": "code",
   "execution_count": 62,
   "metadata": {
    "colab": {
     "base_uri": "https://localhost:8080/",
     "height": 67
    },
    "colab_type": "code",
    "executionInfo": {
     "elapsed": 1582,
     "status": "ok",
     "timestamp": 1595836960027,
     "user": {
      "displayName": "Amit Singh",
      "photoUrl": "https://lh5.googleusercontent.com/-21tlpMHV94E/AAAAAAAAAAI/AAAAAAAAGgs/a-cO-Bg6i8s/s64/photo.jpg",
      "userId": "01480187702625975519"
     },
     "user_tz": -330
    },
    "id": "d1opzJ4NSDFA",
    "outputId": "a39843b3-af39-4a31-ee6e-d1ce3b20b35b"
   },
   "outputs": [
    {
     "data": {
      "text/plain": [
       "array([[1, 4, 6],\n",
       "       [4, 4, 8],\n",
       "       [3, 5, 6]])"
      ]
     },
     "execution_count": 62,
     "metadata": {
      "tags": []
     },
     "output_type": "execute_result"
    }
   ],
   "source": [
    "# for 2D array\n",
    "np.random.seed(0)\n",
    "x=np.random.randint(1,10,(3,3))\n",
    "np.sort(x,axis=1)"
   ]
  },
  {
   "cell_type": "code",
   "execution_count": 66,
   "metadata": {
    "colab": {
     "base_uri": "https://localhost:8080/",
     "height": 33
    },
    "colab_type": "code",
    "executionInfo": {
     "elapsed": 1651,
     "status": "ok",
     "timestamp": 1595837284034,
     "user": {
      "displayName": "Amit Singh",
      "photoUrl": "https://lh5.googleusercontent.com/-21tlpMHV94E/AAAAAAAAAAI/AAAAAAAAGgs/a-cO-Bg6i8s/s64/photo.jpg",
      "userId": "01480187702625975519"
     },
     "user_tz": -330
    },
    "id": "NEy_s_hwS-iV",
    "outputId": "d2f66c53-4c78-4fd7-899e-b24b970c0cb0"
   },
   "outputs": [
    {
     "data": {
      "text/plain": [
       "array([1, 2, 4, 6, 7, 9, 8])"
      ]
     },
     "execution_count": 66,
     "metadata": {
      "tags": []
     },
     "output_type": "execute_result"
    }
   ],
   "source": [
    "#partitioning of array\n",
    "x=np.array([7,4,6,8,9,2,1])\n",
    "np.partition(x,3) #All elements smaller than the k-th element are moved before this element and all equal or greater are moved behind it. \n",
    "                #The ordering of the elements in the two partitions is undefined."
   ]
  }
 ],
 "metadata": {
  "colab": {
   "authorship_tag": "ABX9TyO+PY6xl3QJq/aoGmBWlidk",
   "collapsed_sections": [],
   "name": "Practice.ipynb",
   "provenance": []
  },
  "kernelspec": {
   "display_name": "Python 3",
   "language": "python",
   "name": "python3"
  },
  "language_info": {
   "codemirror_mode": {
    "name": "ipython",
    "version": 3
   },
   "file_extension": ".py",
   "mimetype": "text/x-python",
   "name": "python",
   "nbconvert_exporter": "python",
   "pygments_lexer": "ipython3",
   "version": "3.7.6"
  }
 },
 "nbformat": 4,
 "nbformat_minor": 1
}
